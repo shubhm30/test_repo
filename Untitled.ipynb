{
 "cells": [
  {
   "cell_type": "code",
   "execution_count": 5,
   "id": "b3c98326",
   "metadata": {},
   "outputs": [
    {
     "name": "stdout",
     "output_type": "stream",
     "text": [
      "8\n"
     ]
    }
   ],
   "source": [
    "def fib(a):\n",
    "    \"\"\"Print Fibonacci series\"\"\"\n",
    "    if(a==0 or a==1):\n",
    "        return(a)\n",
    "    else:\n",
    "        return(fib(a-1)+fib(a-2))\n",
    "print(fib(6))"
   ]
  },
  {
   "cell_type": "code",
   "execution_count": 10,
   "id": "0fc8dbfe",
   "metadata": {},
   "outputs": [
    {
     "name": "stdout",
     "output_type": "stream",
     "text": [
      "120\n"
     ]
    }
   ],
   "source": [
    "def fact(n):\n",
    "    if(n==0 or n==1):\n",
    "        return(1)\n",
    "    else:\n",
    "        return(n*fact(n-1))\n",
    "\n",
    "print(fact(5))"
   ]
  },
  {
   "cell_type": "code",
   "execution_count": 11,
   "id": "96227a63",
   "metadata": {},
   "outputs": [
    {
     "name": "stdout",
     "output_type": "stream",
     "text": [
      "\n",
      "\n",
      "\n",
      "\n",
      "\n",
      "Enter to exitsd\n"
     ]
    },
    {
     "data": {
      "text/plain": [
       "'sd'"
      ]
     },
     "execution_count": 11,
     "metadata": {},
     "output_type": "execute_result"
    }
   ],
   "source": [
    "input(\"\\n\\n\\n\\n\\nEnter to exit\")"
   ]
  },
  {
   "cell_type": "code",
   "execution_count": 13,
   "id": "2f08a7a3",
   "metadata": {},
   "outputs": [
    {
     "data": {
      "text/plain": [
       "'Print Fibonacci series'"
      ]
     },
     "execution_count": 13,
     "metadata": {},
     "output_type": "execute_result"
    }
   ],
   "source": [
    "fib.__doc__"
   ]
  },
  {
   "cell_type": "code",
   "execution_count": 81,
   "id": "359e6499",
   "metadata": {},
   "outputs": [],
   "source": [
    "def pyramid():\n",
    "    s = input(\"Enter the symbol:\")\n",
    "    h = int(input(\"Enter height of pyramid:\"))\n",
    "    for i in range(h,0,-1):\n",
    "        for j in range(i,0,-1):\n",
    "            print(s, end=\"\")\n",
    "        print('\\r')"
   ]
  },
  {
   "cell_type": "code",
   "execution_count": 82,
   "id": "f2972570",
   "metadata": {},
   "outputs": [
    {
     "name": "stdout",
     "output_type": "stream",
     "text": [
      "Enter the symbol:*\n",
      "Enter height of pyramid:6\n",
      "******\n",
      "*****\n",
      "****\n",
      "***\n",
      "**\n",
      "*\n"
     ]
    }
   ],
   "source": [
    "pyramid()"
   ]
  },
  {
   "cell_type": "code",
   "execution_count": 20,
   "id": "e62ebc08",
   "metadata": {},
   "outputs": [
    {
     "name": "stdout",
     "output_type": "stream",
     "text": [
      "The type of variable having value 100  is  <class 'int'>\n"
     ]
    }
   ],
   "source": [
    "a=100\n",
    "print(\"The type of variable having value\", a, \" is \", type(a))"
   ]
  },
  {
   "cell_type": "code",
   "execution_count": 72,
   "id": "f2faf527",
   "metadata": {},
   "outputs": [
    {
     "name": "stdout",
     "output_type": "stream",
     "text": [
      "***"
     ]
    }
   ],
   "source": [
    "for j in range(3,0,-1):\n",
    "    print('*', end=\"\")"
   ]
  },
  {
   "cell_type": "code",
   "execution_count": 46,
   "id": "2275ac9b",
   "metadata": {},
   "outputs": [],
   "source": [
    "l = [1,2,3,4,5,6,7,8,9]"
   ]
  },
  {
   "cell_type": "code",
   "execution_count": 47,
   "id": "75513c5d",
   "metadata": {},
   "outputs": [
    {
     "data": {
      "text/plain": [
       "[1, 2, 3, 4, 5, 6, 7, 8, 9]"
      ]
     },
     "execution_count": 47,
     "metadata": {},
     "output_type": "execute_result"
    }
   ],
   "source": [
    "l"
   ]
  },
  {
   "cell_type": "code",
   "execution_count": 48,
   "id": "daffc0e9",
   "metadata": {},
   "outputs": [],
   "source": [
    "t = tuple(l)"
   ]
  },
  {
   "cell_type": "code",
   "execution_count": 49,
   "id": "d3961856",
   "metadata": {},
   "outputs": [
    {
     "data": {
      "text/plain": [
       "(1, 2, 3, 4, 5, 6, 7, 8, 9)"
      ]
     },
     "execution_count": 49,
     "metadata": {},
     "output_type": "execute_result"
    }
   ],
   "source": [
    "t"
   ]
  },
  {
   "cell_type": "code",
   "execution_count": 50,
   "id": "c8f0c615",
   "metadata": {},
   "outputs": [],
   "source": [
    "l[5] = 60"
   ]
  },
  {
   "cell_type": "code",
   "execution_count": 51,
   "id": "dcf55dc3",
   "metadata": {},
   "outputs": [
    {
     "data": {
      "text/plain": [
       "[1, 2, 3, 4, 5, 60, 7, 8, 9]"
      ]
     },
     "execution_count": 51,
     "metadata": {},
     "output_type": "execute_result"
    }
   ],
   "source": [
    "l"
   ]
  },
  {
   "cell_type": "code",
   "execution_count": 52,
   "id": "612fcec0",
   "metadata": {},
   "outputs": [
    {
     "data": {
      "text/plain": [
       "8"
      ]
     },
     "execution_count": 52,
     "metadata": {},
     "output_type": "execute_result"
    }
   ],
   "source": [
    "l[3]*2"
   ]
  },
  {
   "cell_type": "code",
   "execution_count": 53,
   "id": "9e1caa02",
   "metadata": {},
   "outputs": [
    {
     "ename": "TypeError",
     "evalue": "'tuple' object does not support item assignment",
     "output_type": "error",
     "traceback": [
      "\u001b[0;31m---------------------------------------------------------------------------\u001b[0m",
      "\u001b[0;31mTypeError\u001b[0m                                 Traceback (most recent call last)",
      "Input \u001b[0;32mIn [53]\u001b[0m, in \u001b[0;36m<cell line: 1>\u001b[0;34m()\u001b[0m\n\u001b[0;32m----> 1\u001b[0m t[\u001b[38;5;241m3\u001b[39m] \u001b[38;5;241m=\u001b[39m \u001b[38;5;241m40\u001b[39m\n",
      "\u001b[0;31mTypeError\u001b[0m: 'tuple' object does not support item assignment"
     ]
    }
   ],
   "source": [
    "t[3] = 40"
   ]
  },
  {
   "cell_type": "code",
   "execution_count": 88,
   "id": "3fcd4dcf",
   "metadata": {},
   "outputs": [
    {
     "name": "stdout",
     "output_type": "stream",
     "text": [
      "False\n"
     ]
    }
   ],
   "source": [
    "a = ()\n",
    "print(bool(a))"
   ]
  },
  {
   "cell_type": "code",
   "execution_count": 93,
   "id": "8f68fe36",
   "metadata": {},
   "outputs": [
    {
     "data": {
      "text/plain": [
       "3"
      ]
     },
     "execution_count": 93,
     "metadata": {},
     "output_type": "execute_result"
    }
   ],
   "source": [
    "10//3"
   ]
  },
  {
   "cell_type": "code",
   "execution_count": 104,
   "id": "0b48f6e1",
   "metadata": {},
   "outputs": [
    {
     "name": "stdout",
     "output_type": "stream",
     "text": [
      "a **= 2 :  10000\n"
     ]
    }
   ],
   "source": [
    "a=100\n",
    "a **= 2\n",
    "print (\"a **= 2 : \", a)"
   ]
  },
  {
   "cell_type": "code",
   "execution_count": 103,
   "id": "37c34774",
   "metadata": {},
   "outputs": [
    {
     "data": {
      "text/plain": [
       "10000"
      ]
     },
     "execution_count": 103,
     "metadata": {},
     "output_type": "execute_result"
    }
   ],
   "source": [
    "a"
   ]
  },
  {
   "cell_type": "code",
   "execution_count": 2,
   "id": "2091d13b",
   "metadata": {},
   "outputs": [],
   "source": [
    "import tweepy\n",
    "import matplotlib.pyplot as plt\n",
    "import numpy as np\n",
    "import pandas as pd"
   ]
  },
  {
   "cell_type": "code",
   "execution_count": 9,
   "id": "eae93de1",
   "metadata": {},
   "outputs": [],
   "source": [
    "cs_key = \"qH7CTe0pL9AtV9rhCgYOxghJV\"\n",
    "cs_secret_key = \"GSzbPPCwzzAtdebdLSmM9rs7hN7n1UIDlhreuGQJEOWbbl9xni\"\n",
    "access_token = \"53633496-BDzvleDaSes0u4qjcYtxQQSQYLrUr95j0iuSy5dIw\"\n",
    "access_secret_token = \"A8Myz3p2zaPuRA9rPNy0RSeMFelNWqSgYsLRHrnToR8pS\"\n",
    "auth = tweepy.OAuthHandler(cs_key,cs_secret_key)\n",
    "auth.set_access_token(access_token,access_secret_token)\n",
    "api = tweepy.API(auth)"
   ]
  },
  {
   "cell_type": "code",
   "execution_count": 16,
   "id": "6c8c7ebd",
   "metadata": {},
   "outputs": [],
   "source": [
    "tweets = tweepy.Cursor(api.search_tweets, q = \"G20\", lang = 'en', tweet_mode = 'extended').items(10)\n",
    "t_list = []\n",
    "for t in tweets:\n",
    "    t_list.append(t.full_text)"
   ]
  },
  {
   "cell_type": "code",
   "execution_count": 17,
   "id": "1b18a61d",
   "metadata": {},
   "outputs": [
    {
     "data": {
      "text/plain": [
       "['Ms Quint Simon Head of Public Policy, APAC, Amazon Web Services suggests how digital trust can be strengthened in society, at B20 India inception meeting.\\nStay tuned #B20India\\n\\n#B20India #G20India2023\\n#B20India2023 #B20GlobalDialogue\\n#G20India #G20 #B20\\n\\n@quintsimon @AWS @g20org https://t.co/NLZPnPmrEV',\n",
       " 'RT @kishanreddybjp: Witnessed the vibrant folk dance &amp; traditional performances at the cultural evening organized for the #G20 delegates, a…',\n",
       " \"RT @GoI_MeitY: Let's work together to drive sustainable development and economic growth. Calling startups to join G20 #DigitalInnovationAll…\",\n",
       " 'RT @airnewsalerts: #G20: First Tourism Working Group Meeting to officially be inaugurated at Dhordo, #Gujarat today. \\n\\nUnion Minister for f…',\n",
       " 'RT @_DigitalIndia: 6️⃣ days to go for the 1st Meeting of G20 Digital Economy Working Group in Lucknow from Feb 13-15. \\n\\nExplore next-gen te…',\n",
       " 'RT @alkesh12sharma: Digital Innovation Alliance invites start up community from G20 Countries to work on new and emerging technologies for…',\n",
       " 'RT @kishanreddybjp: A stroll at The Magnificent White Desert of Rann of Kutch, with its enchanting beauty, serenity &amp; the spectacular sunse…',\n",
       " 'RT @my_rajasthan: A group photo from the first Employment Working Group meeting of the G20 in Jodhpur, which was attended by representative…',\n",
       " 'RT @aksharmaBharat: Congrats Agra Administration! \\nfor setting a world record for \"Most Participants in an Essay Writing Competition at Mul…',\n",
       " 'RT @PIB_Guwahati: #Assam Education Minister @ranojpeguassam addressing the gathering on the concluding day of #Y20 Inception Meeting in #Gu…']"
      ]
     },
     "execution_count": 17,
     "metadata": {},
     "output_type": "execute_result"
    }
   ],
   "source": [
    "t_list"
   ]
  },
  {
   "cell_type": "code",
   "execution_count": 62,
   "id": "c6504b3d",
   "metadata": {},
   "outputs": [],
   "source": [
    "df = pd.DataFrame(t_list)"
   ]
  },
  {
   "cell_type": "code",
   "execution_count": 63,
   "id": "19fefac2",
   "metadata": {},
   "outputs": [
    {
     "data": {
      "text/html": [
       "<div>\n",
       "<style scoped>\n",
       "    .dataframe tbody tr th:only-of-type {\n",
       "        vertical-align: middle;\n",
       "    }\n",
       "\n",
       "    .dataframe tbody tr th {\n",
       "        vertical-align: top;\n",
       "    }\n",
       "\n",
       "    .dataframe thead th {\n",
       "        text-align: right;\n",
       "    }\n",
       "</style>\n",
       "<table border=\"1\" class=\"dataframe\">\n",
       "  <thead>\n",
       "    <tr style=\"text-align: right;\">\n",
       "      <th></th>\n",
       "      <th>0</th>\n",
       "    </tr>\n",
       "  </thead>\n",
       "  <tbody>\n",
       "    <tr>\n",
       "      <th>0</th>\n",
       "      <td>Ms Quint Simon Head of Public Policy, APAC, Am...</td>\n",
       "    </tr>\n",
       "    <tr>\n",
       "      <th>1</th>\n",
       "      <td>RT @kishanreddybjp: Witnessed the vibrant folk...</td>\n",
       "    </tr>\n",
       "    <tr>\n",
       "      <th>2</th>\n",
       "      <td>RT @GoI_MeitY: Let's work together to drive su...</td>\n",
       "    </tr>\n",
       "    <tr>\n",
       "      <th>3</th>\n",
       "      <td>RT @airnewsalerts: #G20: First Tourism Working...</td>\n",
       "    </tr>\n",
       "    <tr>\n",
       "      <th>4</th>\n",
       "      <td>RT @_DigitalIndia: 6️⃣ days to go for the 1st ...</td>\n",
       "    </tr>\n",
       "  </tbody>\n",
       "</table>\n",
       "</div>"
      ],
      "text/plain": [
       "                                                   0\n",
       "0  Ms Quint Simon Head of Public Policy, APAC, Am...\n",
       "1  RT @kishanreddybjp: Witnessed the vibrant folk...\n",
       "2  RT @GoI_MeitY: Let's work together to drive su...\n",
       "3  RT @airnewsalerts: #G20: First Tourism Working...\n",
       "4  RT @_DigitalIndia: 6️⃣ days to go for the 1st ..."
      ]
     },
     "execution_count": 63,
     "metadata": {},
     "output_type": "execute_result"
    }
   ],
   "source": [
    "df.head()"
   ]
  },
  {
   "cell_type": "code",
   "execution_count": 64,
   "id": "a1248e23",
   "metadata": {},
   "outputs": [
    {
     "data": {
      "text/plain": [
       "['RT',\n",
       " '@kishanreddybjp:',\n",
       " 'Witnessed',\n",
       " 'the',\n",
       " 'vibrant',\n",
       " 'folk',\n",
       " 'dance',\n",
       " '&amp;',\n",
       " 'traditional',\n",
       " 'performances',\n",
       " 'at',\n",
       " 'the',\n",
       " 'cultural',\n",
       " 'evening',\n",
       " 'organized',\n",
       " 'for',\n",
       " 'the',\n",
       " '#G20',\n",
       " 'delegates,',\n",
       " 'a…']"
      ]
     },
     "execution_count": 64,
     "metadata": {},
     "output_type": "execute_result"
    }
   ],
   "source": [
    "l1 = df[0][1].split()\n",
    "l1"
   ]
  },
  {
   "cell_type": "code",
   "execution_count": 29,
   "id": "3febada0",
   "metadata": {},
   "outputs": [
    {
     "name": "stderr",
     "output_type": "stream",
     "text": [
      "[nltk_data] Downloading package stopwords to\n",
      "[nltk_data]     /Users/shubhamchaudhary/nltk_data...\n",
      "[nltk_data]   Unzipping corpora/stopwords.zip.\n"
     ]
    },
    {
     "data": {
      "text/plain": [
       "True"
      ]
     },
     "execution_count": 29,
     "metadata": {},
     "output_type": "execute_result"
    }
   ],
   "source": [
    "import nltk\n",
    "from nltk.corpus import stopwords\n",
    "nltk.download('stopwords')"
   ]
  },
  {
   "cell_type": "code",
   "execution_count": 65,
   "id": "6dc016c1",
   "metadata": {},
   "outputs": [],
   "source": [
    "stop = stopwords.words('english')"
   ]
  },
  {
   "cell_type": "code",
   "execution_count": 66,
   "id": "e740384c",
   "metadata": {},
   "outputs": [],
   "source": [
    "l2 = [word for word in l1 if word not in stop]"
   ]
  },
  {
   "cell_type": "code",
   "execution_count": 67,
   "id": "8e015eb4",
   "metadata": {},
   "outputs": [
    {
     "data": {
      "text/plain": [
       "['RT',\n",
       " '@kishanreddybjp:',\n",
       " 'Witnessed',\n",
       " 'vibrant',\n",
       " 'folk',\n",
       " 'dance',\n",
       " '&amp;',\n",
       " 'traditional',\n",
       " 'performances',\n",
       " 'cultural',\n",
       " 'evening',\n",
       " 'organized',\n",
       " '#G20',\n",
       " 'delegates,',\n",
       " 'a…']"
      ]
     },
     "execution_count": 67,
     "metadata": {},
     "output_type": "execute_result"
    }
   ],
   "source": [
    "l2"
   ]
  },
  {
   "cell_type": "code",
   "execution_count": 68,
   "id": "0e6f2bb5",
   "metadata": {},
   "outputs": [
    {
     "data": {
      "text/html": [
       "<div>\n",
       "<style scoped>\n",
       "    .dataframe tbody tr th:only-of-type {\n",
       "        vertical-align: middle;\n",
       "    }\n",
       "\n",
       "    .dataframe tbody tr th {\n",
       "        vertical-align: top;\n",
       "    }\n",
       "\n",
       "    .dataframe thead th {\n",
       "        text-align: right;\n",
       "    }\n",
       "</style>\n",
       "<table border=\"1\" class=\"dataframe\">\n",
       "  <thead>\n",
       "    <tr style=\"text-align: right;\">\n",
       "      <th></th>\n",
       "      <th>Tweets</th>\n",
       "    </tr>\n",
       "  </thead>\n",
       "  <tbody>\n",
       "    <tr>\n",
       "      <th>0</th>\n",
       "      <td>Ms Quint Simon Head of Public Policy, APAC, Am...</td>\n",
       "    </tr>\n",
       "    <tr>\n",
       "      <th>1</th>\n",
       "      <td>RT @kishanreddybjp: Witnessed the vibrant folk...</td>\n",
       "    </tr>\n",
       "    <tr>\n",
       "      <th>2</th>\n",
       "      <td>RT @GoI_MeitY: Let's work together to drive su...</td>\n",
       "    </tr>\n",
       "    <tr>\n",
       "      <th>3</th>\n",
       "      <td>RT @airnewsalerts: #G20: First Tourism Working...</td>\n",
       "    </tr>\n",
       "    <tr>\n",
       "      <th>4</th>\n",
       "      <td>RT @_DigitalIndia: 6️⃣ days to go for the 1st ...</td>\n",
       "    </tr>\n",
       "  </tbody>\n",
       "</table>\n",
       "</div>"
      ],
      "text/plain": [
       "                                              Tweets\n",
       "0  Ms Quint Simon Head of Public Policy, APAC, Am...\n",
       "1  RT @kishanreddybjp: Witnessed the vibrant folk...\n",
       "2  RT @GoI_MeitY: Let's work together to drive su...\n",
       "3  RT @airnewsalerts: #G20: First Tourism Working...\n",
       "4  RT @_DigitalIndia: 6️⃣ days to go for the 1st ..."
      ]
     },
     "execution_count": 68,
     "metadata": {},
     "output_type": "execute_result"
    }
   ],
   "source": [
    "df.columns = ['Tweets']\n",
    "df.head()"
   ]
  },
  {
   "cell_type": "code",
   "execution_count": 69,
   "id": "135c23e4",
   "metadata": {},
   "outputs": [],
   "source": [
    "df['Tweets'] = df['Tweets'].apply(lambda x: ' '.join([word for word in x.split() if word not in stop]))"
   ]
  },
  {
   "cell_type": "code",
   "execution_count": 70,
   "id": "ca58405a",
   "metadata": {},
   "outputs": [
    {
     "data": {
      "text/html": [
       "<div>\n",
       "<style scoped>\n",
       "    .dataframe tbody tr th:only-of-type {\n",
       "        vertical-align: middle;\n",
       "    }\n",
       "\n",
       "    .dataframe tbody tr th {\n",
       "        vertical-align: top;\n",
       "    }\n",
       "\n",
       "    .dataframe thead th {\n",
       "        text-align: right;\n",
       "    }\n",
       "</style>\n",
       "<table border=\"1\" class=\"dataframe\">\n",
       "  <thead>\n",
       "    <tr style=\"text-align: right;\">\n",
       "      <th></th>\n",
       "      <th>Tweets</th>\n",
       "    </tr>\n",
       "  </thead>\n",
       "  <tbody>\n",
       "    <tr>\n",
       "      <th>0</th>\n",
       "      <td>Ms Quint Simon Head Public Policy, APAC, Amazo...</td>\n",
       "    </tr>\n",
       "    <tr>\n",
       "      <th>1</th>\n",
       "      <td>RT @kishanreddybjp: Witnessed vibrant folk dan...</td>\n",
       "    </tr>\n",
       "    <tr>\n",
       "      <th>2</th>\n",
       "      <td>RT @GoI_MeitY: Let's work together drive susta...</td>\n",
       "    </tr>\n",
       "    <tr>\n",
       "      <th>3</th>\n",
       "      <td>RT @airnewsalerts: #G20: First Tourism Working...</td>\n",
       "    </tr>\n",
       "    <tr>\n",
       "      <th>4</th>\n",
       "      <td>RT @_DigitalIndia: 6️⃣ days go 1st Meeting G20...</td>\n",
       "    </tr>\n",
       "  </tbody>\n",
       "</table>\n",
       "</div>"
      ],
      "text/plain": [
       "                                              Tweets\n",
       "0  Ms Quint Simon Head Public Policy, APAC, Amazo...\n",
       "1  RT @kishanreddybjp: Witnessed vibrant folk dan...\n",
       "2  RT @GoI_MeitY: Let's work together drive susta...\n",
       "3  RT @airnewsalerts: #G20: First Tourism Working...\n",
       "4  RT @_DigitalIndia: 6️⃣ days go 1st Meeting G20..."
      ]
     },
     "execution_count": 70,
     "metadata": {},
     "output_type": "execute_result"
    }
   ],
   "source": [
    "df.head()"
   ]
  },
  {
   "cell_type": "code",
   "execution_count": 71,
   "id": "55ceb673",
   "metadata": {},
   "outputs": [],
   "source": [
    "df['Tweets'] = df['Tweets'].apply(lambda x: ' '.join([word for word in x.split() if word != 'RT']))"
   ]
  },
  {
   "cell_type": "code",
   "execution_count": 72,
   "id": "feb85a5c",
   "metadata": {},
   "outputs": [
    {
     "data": {
      "text/html": [
       "<div>\n",
       "<style scoped>\n",
       "    .dataframe tbody tr th:only-of-type {\n",
       "        vertical-align: middle;\n",
       "    }\n",
       "\n",
       "    .dataframe tbody tr th {\n",
       "        vertical-align: top;\n",
       "    }\n",
       "\n",
       "    .dataframe thead th {\n",
       "        text-align: right;\n",
       "    }\n",
       "</style>\n",
       "<table border=\"1\" class=\"dataframe\">\n",
       "  <thead>\n",
       "    <tr style=\"text-align: right;\">\n",
       "      <th></th>\n",
       "      <th>Tweets</th>\n",
       "    </tr>\n",
       "  </thead>\n",
       "  <tbody>\n",
       "    <tr>\n",
       "      <th>0</th>\n",
       "      <td>Ms Quint Simon Head Public Policy, APAC, Amazo...</td>\n",
       "    </tr>\n",
       "    <tr>\n",
       "      <th>1</th>\n",
       "      <td>@kishanreddybjp: Witnessed vibrant folk dance ...</td>\n",
       "    </tr>\n",
       "    <tr>\n",
       "      <th>2</th>\n",
       "      <td>@GoI_MeitY: Let's work together drive sustaina...</td>\n",
       "    </tr>\n",
       "    <tr>\n",
       "      <th>3</th>\n",
       "      <td>@airnewsalerts: #G20: First Tourism Working Gr...</td>\n",
       "    </tr>\n",
       "    <tr>\n",
       "      <th>4</th>\n",
       "      <td>@_DigitalIndia: 6️⃣ days go 1st Meeting G20 Di...</td>\n",
       "    </tr>\n",
       "  </tbody>\n",
       "</table>\n",
       "</div>"
      ],
      "text/plain": [
       "                                              Tweets\n",
       "0  Ms Quint Simon Head Public Policy, APAC, Amazo...\n",
       "1  @kishanreddybjp: Witnessed vibrant folk dance ...\n",
       "2  @GoI_MeitY: Let's work together drive sustaina...\n",
       "3  @airnewsalerts: #G20: First Tourism Working Gr...\n",
       "4  @_DigitalIndia: 6️⃣ days go 1st Meeting G20 Di..."
      ]
     },
     "execution_count": 72,
     "metadata": {},
     "output_type": "execute_result"
    }
   ],
   "source": [
    "df.head()"
   ]
  },
  {
   "cell_type": "code",
   "execution_count": 77,
   "id": "92020cbf",
   "metadata": {},
   "outputs": [],
   "source": [
    "import re"
   ]
  },
  {
   "cell_type": "code",
   "execution_count": 85,
   "id": "e117ff10",
   "metadata": {},
   "outputs": [],
   "source": [
    "df['Tweets'] = df['Tweets'].apply(lambda x: ' '.join([re.sub(r'#',\"\",word) for word in x.split()]))"
   ]
  },
  {
   "cell_type": "code",
   "execution_count": 86,
   "id": "4de3d123",
   "metadata": {},
   "outputs": [],
   "source": [
    "df['Tweets']=df['Tweets'].apply(lambda x: ' '.join([re.sub(r'@',\"\",word) for word in x.split()]))"
   ]
  },
  {
   "cell_type": "code",
   "execution_count": 87,
   "id": "20306efe",
   "metadata": {},
   "outputs": [],
   "source": [
    "df['Tweets'] = df['Tweets'].apply(lambda x: ' '.join([re.sub(r'[0-9]',\"\",word) for word in x.split()]))"
   ]
  },
  {
   "cell_type": "code",
   "execution_count": 89,
   "id": "9b9096f4",
   "metadata": {},
   "outputs": [],
   "source": [
    "df['Tweets'] = df['Tweets'].apply(lambda x: ' '.join([re.sub(r'[^a-zA-Z]',\"\",word) for word in x.split()]))"
   ]
  },
  {
   "cell_type": "code",
   "execution_count": 90,
   "id": "e95355fe",
   "metadata": {},
   "outputs": [],
   "source": [
    "df['Tweets'] = df['Tweets'].apply(lambda x: ' '.join([word.lower() for word in x.split()]))"
   ]
  },
  {
   "cell_type": "code",
   "execution_count": 91,
   "id": "1d71e5a3",
   "metadata": {},
   "outputs": [
    {
     "data": {
      "text/html": [
       "<div>\n",
       "<style scoped>\n",
       "    .dataframe tbody tr th:only-of-type {\n",
       "        vertical-align: middle;\n",
       "    }\n",
       "\n",
       "    .dataframe tbody tr th {\n",
       "        vertical-align: top;\n",
       "    }\n",
       "\n",
       "    .dataframe thead th {\n",
       "        text-align: right;\n",
       "    }\n",
       "</style>\n",
       "<table border=\"1\" class=\"dataframe\">\n",
       "  <thead>\n",
       "    <tr style=\"text-align: right;\">\n",
       "      <th></th>\n",
       "      <th>Tweets</th>\n",
       "    </tr>\n",
       "  </thead>\n",
       "  <tbody>\n",
       "    <tr>\n",
       "      <th>0</th>\n",
       "      <td>ms quint simon head public policy apac amazon ...</td>\n",
       "    </tr>\n",
       "    <tr>\n",
       "      <th>1</th>\n",
       "      <td>kishanreddybjp witnessed vibrant folk dance am...</td>\n",
       "    </tr>\n",
       "    <tr>\n",
       "      <th>2</th>\n",
       "      <td>goimeity lets work together drive sustainable ...</td>\n",
       "    </tr>\n",
       "    <tr>\n",
       "      <th>3</th>\n",
       "      <td>airnewsalerts g first tourism working group me...</td>\n",
       "    </tr>\n",
       "    <tr>\n",
       "      <th>4</th>\n",
       "      <td>digitalindia days go st meeting g digital econ...</td>\n",
       "    </tr>\n",
       "  </tbody>\n",
       "</table>\n",
       "</div>"
      ],
      "text/plain": [
       "                                              Tweets\n",
       "0  ms quint simon head public policy apac amazon ...\n",
       "1  kishanreddybjp witnessed vibrant folk dance am...\n",
       "2  goimeity lets work together drive sustainable ...\n",
       "3  airnewsalerts g first tourism working group me...\n",
       "4  digitalindia days go st meeting g digital econ..."
      ]
     },
     "execution_count": 91,
     "metadata": {},
     "output_type": "execute_result"
    }
   ],
   "source": [
    "df.head()"
   ]
  },
  {
   "cell_type": "code",
   "execution_count": 92,
   "id": "0b80b1f6",
   "metadata": {},
   "outputs": [
    {
     "data": {
      "text/plain": [
       "array(42)"
      ]
     },
     "execution_count": 92,
     "metadata": {},
     "output_type": "execute_result"
    }
   ],
   "source": [
    "np.array(42)"
   ]
  },
  {
   "cell_type": "code",
   "execution_count": 93,
   "id": "78cebfa8",
   "metadata": {},
   "outputs": [
    {
     "data": {
      "text/plain": [
       "array([[[1, 2, 3],\n",
       "        [4, 5, 6]],\n",
       "\n",
       "       [[1, 2, 3],\n",
       "        [4, 5, 6]]])"
      ]
     },
     "execution_count": 93,
     "metadata": {},
     "output_type": "execute_result"
    }
   ],
   "source": [
    "np.array([[[1, 2, 3], [4, 5, 6]], [[1, 2, 3], [4, 5, 6]]])"
   ]
  },
  {
   "cell_type": "code",
   "execution_count": null,
   "id": "4425be88",
   "metadata": {},
   "outputs": [],
   "source": []
  }
 ],
 "metadata": {
  "kernelspec": {
   "display_name": "Python 3 (ipykernel)",
   "language": "python",
   "name": "python3"
  },
  "language_info": {
   "codemirror_mode": {
    "name": "ipython",
    "version": 3
   },
   "file_extension": ".py",
   "mimetype": "text/x-python",
   "name": "python",
   "nbconvert_exporter": "python",
   "pygments_lexer": "ipython3",
   "version": "3.9.12"
  }
 },
 "nbformat": 4,
 "nbformat_minor": 5
}
